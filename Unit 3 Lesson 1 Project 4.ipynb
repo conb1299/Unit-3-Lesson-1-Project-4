{
 "cells": [
  {
   "cell_type": "code",
   "execution_count": 1,
   "metadata": {
    "collapsed": true
   },
   "outputs": [],
   "source": [
    "import numpy as np\n",
    "import pandas as pd\n",
    "import matplotlib.pyplot as plt\n",
    "import scipy\n",
    "import seaborn as sns\n",
    "from math import sqrt\n",
    "from collections import Counter\n",
    "from sklearn import neighbors\n",
    "from sklearn.model_selection import cross_val_score\n",
    "from sklearn import linear_model\n",
    "import statsmodels.formula.api as smf\n",
    "from statsmodels.sandbox.regression.predstd import wls_prediction_std\n",
    "import warnings\n",
    "warnings.filterwarnings(action=\"ignore\", module=\"scipy\", message=\"^internal gelsd\")\n",
    "%matplotlib inline"
   ]
  },
  {
   "cell_type": "code",
   "execution_count": 38,
   "metadata": {},
   "outputs": [],
   "source": [
    "df = pd.read_csv('basketball_teams.csv')\n",
    "#df"
   ]
  },
  {
   "cell_type": "code",
   "execution_count": 40,
   "metadata": {},
   "outputs": [],
   "source": [
    "dfNBA = df[df.lgID == 'NBA']#Using Only NBA information for our data\n",
    "dfNBA = dfNBA[dfNBA.games == 82]#Using Only NBA seasons that played the full 82 games.\n",
    "dfNBA = dfNBA[df.o_fgm != 0]#Removing rows where there are no stats for certain categories.\n"
   ]
  },
  {
   "cell_type": "code",
   "execution_count": 41,
   "metadata": {
    "collapsed": true
   },
   "outputs": [],
   "source": [
    "df = dfNBA[df.d_fgm != 0]"
   ]
  },
  {
   "cell_type": "code",
   "execution_count": 45,
   "metadata": {},
   "outputs": [],
   "source": [
    "playoff = pd.DataFrame()\n",
    "df1 = playoff\n",
    "df['playoff'] = df['playoff'].astype(str)"
   ]
  },
  {
   "cell_type": "code",
   "execution_count": 46,
   "metadata": {},
   "outputs": [],
   "source": [
    "df['Playoff'] = df.playoff.apply(lambda x: 0 if x =='nan'  else 1 ) #Converting playoff column to binary 1 made playoff."
   ]
  },
  {
   "cell_type": "code",
   "execution_count": 47,
   "metadata": {
    "collapsed": true
   },
   "outputs": [],
   "source": [
    "playoff['o_fga'] = df['o_fga'].tolist()\n",
    "playoff['o_fgm'] = df['o_fgm'].tolist()\n",
    "playoff['o_asts'] =df['o_asts'].tolist()\n",
    "playoff['d_fgm'] = df['d_fgm'].tolist()\n",
    "playoff['Playoff'] =df['Playoff'].tolist()\n",
    "playoff['wins'] =df['won'].tolist()#Converting the columns we are going to be using to lists.\n",
    "playoff['total_fg'] = playoff['o_fgm']-playoff['d_fgm'] #Creating new variable for fgs made - fgs allowed."
   ]
  },
  {
   "cell_type": "code",
   "execution_count": 56,
   "metadata": {},
   "outputs": [
    {
     "data": {
      "text/plain": [
       "KNeighborsRegressor(algorithm='auto', leaf_size=30, metric='minkowski',\n",
       "          metric_params=None, n_jobs=1, n_neighbors=10, p=2,\n",
       "          weights='uniform')"
      ]
     },
     "execution_count": 56,
     "metadata": {},
     "output_type": "execute_result"
    }
   ],
   "source": [
    "knn = neighbors.KNeighborsRegressor(n_neighbors=10)\n",
    "X = playoff[['total_fg', 'o_asts','Playoff']]\n",
    "Y = playoff.wins\n",
    "knn.fit(X, Y) #KNN Model"
   ]
  },
  {
   "cell_type": "code",
   "execution_count": 57,
   "metadata": {},
   "outputs": [
    {
     "name": "stdout",
     "output_type": "stream",
     "text": [
      " Accuracy: 0.48 (+/- 0.15)\n"
     ]
    }
   ],
   "source": [
    "score = cross_val_score(knn, X, Y, cv=5)\n",
    "print(\" Accuracy: %0.2f (+/- %0.2f)\" % (score.mean(), score.std() * 2)) #KNN Model Accuracy"
   ]
  },
  {
   "cell_type": "code",
   "execution_count": 52,
   "metadata": {},
   "outputs": [
    {
     "name": "stdout",
     "output_type": "stream",
     "text": [
      "Coefficients: \n",
      " [  3.29688324e-02   1.94911853e-03   1.29441579e+01]\n",
      "Intercept: \n",
      " 29.8930254872\n"
     ]
    }
   ],
   "source": [
    "regr = linear_model.LinearRegression()\n",
    "regr.fit(X, Y)\n",
    "print('Coefficients: \\n', regr.coef_)\n",
    "print('Intercept: \\n', regr.intercept_)"
   ]
  },
  {
   "cell_type": "code",
   "execution_count": 58,
   "metadata": {
    "collapsed": true
   },
   "outputs": [],
   "source": [
    "data = playoff\n",
    "linear_formula = 'wins ~ total_fg+o_asts+Playoff'\n",
    "lm = smf.ols(formula=linear_formula, data=data).fit()"
   ]
  },
  {
   "cell_type": "code",
   "execution_count": 59,
   "metadata": {},
   "outputs": [
    {
     "data": {
      "text/plain": [
       "0.74070221534275493"
      ]
     },
     "execution_count": 59,
     "metadata": {},
     "output_type": "execute_result"
    }
   ],
   "source": [
    "lm.rsquared"
   ]
  },
  {
   "cell_type": "markdown",
   "metadata": {},
   "source": [
    "Looking at our two models it looks like our linear regression does a better job of predicting wins. While both models do an okay job, they both can be improved in many ways. (We will attempt to do so in future projects). To create both models the first feature we looked at is total field goals. We calculated this by taking the field goals made an subtracted by the field goals allowed. One would expect this to have a very high linear correlation with total wins. Because of this correlation I think it adds more value to our linear model. Next we used total offensive assists as our second feature. Again we would expect more assists leads to more field goals made (but not necessarily less field goals allowed, so the two features aren't too related) leads to more wins. Finally our categorical variable is playoffs and whether a team made it or not. If a team made it to the playoffs one would expect them to have more wins so this is an important feature. I think a linear model with our features selected and the data presented will always be more accurate than KNN. "
   ]
  }
 ],
 "metadata": {
  "kernelspec": {
   "display_name": "Python 3",
   "language": "python",
   "name": "python3"
  },
  "language_info": {
   "codemirror_mode": {
    "name": "ipython",
    "version": 3
   },
   "file_extension": ".py",
   "mimetype": "text/x-python",
   "name": "python",
   "nbconvert_exporter": "python",
   "pygments_lexer": "ipython3",
   "version": "3.6.1"
  }
 },
 "nbformat": 4,
 "nbformat_minor": 2
}
